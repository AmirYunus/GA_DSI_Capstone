{
 "cells": [
  {
   "cell_type": "markdown",
   "metadata": {
    "toc": true
   },
   "source": [
    "<h1>Table of Contents<span class=\"tocSkip\"></span></h1>\n",
    "<div class=\"toc\"><ul class=\"toc-item\"><li><span><a href=\"#Training\" data-toc-modified-id=\"Training-1\"><span class=\"toc-item-num\">1&nbsp;&nbsp;</span>Training</a></span></li><li><span><a href=\"#Load-Trained-Model\" data-toc-modified-id=\"Load-Trained-Model-2\"><span class=\"toc-item-num\">2&nbsp;&nbsp;</span>Load Trained Model</a></span></li><li><span><a href=\"#Visualise-Training\" data-toc-modified-id=\"Visualise-Training-3\"><span class=\"toc-item-num\">3&nbsp;&nbsp;</span>Visualise Training</a></span></li><li><span><a href=\"#Predict-Anomaly\" data-toc-modified-id=\"Predict-Anomaly-4\"><span class=\"toc-item-num\">4&nbsp;&nbsp;</span>Predict Anomaly</a></span></li></ul></div>"
   ]
  },
  {
   "cell_type": "code",
   "execution_count": null,
   "metadata": {
    "colab": {},
    "colab_type": "code",
    "id": "-L0wDMrca6T2"
   },
   "outputs": [],
   "source": [
    "from google.colab import drive\n",
    "drive.mount('/content/drive')"
   ]
  },
  {
   "cell_type": "code",
   "execution_count": null,
   "metadata": {
    "ExecuteTime": {
     "end_time": "2019-11-14T07:15:25.102282Z",
     "start_time": "2019-11-14T07:15:21.614130Z"
    },
    "colab": {},
    "colab_type": "code",
    "id": "UXZfyeDsGABR"
   },
   "outputs": [],
   "source": [
    "import os\n",
    "import warnings\n",
    "import matplotlib\n",
    "import pandas as pd\n",
    "import numpy as np\n",
    "import seaborn as sns\n",
    "import matplotlib.pyplot as plt\n",
    "import tensorflow as tf\n",
    "\n",
    "from sklearn import metrics\n",
    "from sklearn.preprocessing import MinMaxScaler\n",
    "from sklearn.externals import joblib\n",
    "from numpy.random import seed\n",
    "from keras.layers import Input, Dropout, Dense, LSTM, TimeDistributed, RepeatVector, LeakyReLU\n",
    "from keras.models import Model\n",
    "from keras import regularizers\n",
    "from datetime import datetime\n",
    "from sklearn.model_selection import train_test_split\n",
    "from IPython.display import display, Markdown, HTML\n",
    "from keras.callbacks import EarlyStopping, ModelCheckpoint, CSVLogger\n",
    "\n",
    "from tensorflow.keras.models import Sequential\n",
    "from tensorflow.keras.layers import Dense, Activation"
   ]
  },
  {
   "cell_type": "code",
   "execution_count": null,
   "metadata": {
    "ExecuteTime": {
     "end_time": "2019-11-14T07:15:25.112354Z",
     "start_time": "2019-11-14T07:15:25.104710Z"
    },
    "colab": {},
    "colab_type": "code",
    "id": "K_FgVq9-GABX"
   },
   "outputs": [],
   "source": [
    "sns.set(color_codes=True)\n",
    "%matplotlib inline"
   ]
  },
  {
   "cell_type": "code",
   "execution_count": null,
   "metadata": {
    "ExecuteTime": {
     "end_time": "2019-11-14T07:15:25.208478Z",
     "start_time": "2019-11-14T07:15:25.115019Z"
    },
    "colab": {},
    "colab_type": "code",
    "id": "JTouddrDGABb"
   },
   "outputs": [],
   "source": [
    "np.random.seed(1234)"
   ]
  },
  {
   "cell_type": "code",
   "execution_count": null,
   "metadata": {
    "ExecuteTime": {
     "end_time": "2019-11-14T07:15:25.423967Z",
     "start_time": "2019-11-14T07:15:25.211549Z"
    },
    "colab": {},
    "colab_type": "code",
    "id": "O6s2ZIgNGABe"
   },
   "outputs": [],
   "source": [
    "# Prevent warnings from distracting the reader\n",
    "warnings.filterwarnings('ignore')\n",
    "\n",
    "# Colour scheme and style selected\n",
    "theme = ['#1F306E', '#553772', '#8F3B76', '#C7417B', '#F5487F']\n",
    "colors_palette = sns.palplot(sns.color_palette(theme))\n",
    "plt.style.use('seaborn')\n",
    "sns.set(style=\"white\", color_codes=True)\n",
    "sns.set_palette(colors_palette)\n",
    "\n",
    "# Forces Matplotlib to use high-quality images\n",
    "ip = get_ipython()\n",
    "ibe = ip.configurables[-1]\n",
    "ibe.figure_formats = {'pdf', 'png'}    "
   ]
  },
  {
   "cell_type": "code",
   "execution_count": null,
   "metadata": {
    "ExecuteTime": {
     "end_time": "2019-11-14T07:15:25.431269Z",
     "start_time": "2019-11-14T07:15:25.426061Z"
    },
    "colab": {},
    "colab_type": "code",
    "id": "Zu_-Dry9GABk"
   },
   "outputs": [],
   "source": [
    "%autosave 60"
   ]
  },
  {
   "cell_type": "code",
   "execution_count": null,
   "metadata": {
    "ExecuteTime": {
     "end_time": "2019-11-14T07:15:25.436239Z",
     "start_time": "2019-11-14T07:15:25.433182Z"
    },
    "colab": {},
    "colab_type": "code",
    "id": "1HUqy_h2GABn"
   },
   "outputs": [],
   "source": [
    "nl = \"\\n\""
   ]
  },
  {
   "cell_type": "code",
   "execution_count": null,
   "metadata": {
    "ExecuteTime": {
     "end_time": "2019-11-14T07:15:25.445099Z",
     "start_time": "2019-11-14T07:15:25.438554Z"
    },
    "colab": {},
    "colab_type": "code",
    "id": "Byf2P-IDGABq"
   },
   "outputs": [],
   "source": [
    "if not os.path.exists('../data'): os.makedirs('../data')  # create data directory\n",
    "if not os.path.exists('../models'): os.makedirs('../models')  # create trained models directory"
   ]
  },
  {
   "cell_type": "code",
   "execution_count": null,
   "metadata": {
    "ExecuteTime": {
     "end_time": "2019-11-14T07:15:25.453566Z",
     "start_time": "2019-11-14T07:15:25.449717Z"
    },
    "colab": {},
    "colab_type": "code",
    "id": "TGEDaWoPGABt"
   },
   "outputs": [],
   "source": [
    "##################################\n",
    "# Define LOG\n",
    "##################################\n",
    "def log ():\n",
    "    now = str(datetime.now())\n",
    "    print(f'[LOG {now}]')\n",
    "    return"
   ]
  },
  {
   "cell_type": "code",
   "execution_count": null,
   "metadata": {
    "ExecuteTime": {
     "end_time": "2019-11-14T07:15:26.002991Z",
     "start_time": "2019-11-14T07:15:25.471677Z"
    },
    "colab": {},
    "colab_type": "code",
    "id": "IMInKGfoGACE"
   },
   "outputs": [],
   "source": [
    "log()\n",
    "\n",
    "# load the dataset into the notebook kernel\n",
    "# ori_dataset = pd.read_csv('../data/train.csv')\n",
    "ori_dataset = pd.read_csv('/content/drive/My Drive/Project/train.csv')\n",
    "# inspect the datasets dimensionalities\n",
    "print(F'Transactional dataset of {ori_dataset.shape[0]} rows and {ori_dataset.shape[1]} columns loaded')"
   ]
  },
  {
   "cell_type": "code",
   "execution_count": null,
   "metadata": {
    "ExecuteTime": {
     "end_time": "2019-11-14T07:15:27.187381Z",
     "start_time": "2019-11-14T07:15:27.163945Z"
    },
    "colab": {},
    "colab_type": "code",
    "id": "imDr8YRUGACm"
   },
   "outputs": [],
   "source": [
    "log()\n",
    "# remove the \"ground-truth\" label information for the following steps of the lab\n",
    "label = ori_dataset.pop('label')"
   ]
  },
  {
   "cell_type": "code",
   "execution_count": null,
   "metadata": {
    "ExecuteTime": {
     "end_time": "2019-11-14T07:15:44.767685Z",
     "start_time": "2019-11-14T07:15:42.253654Z"
    },
    "colab": {},
    "colab_type": "code",
    "id": "NMzDmfOsGAD7"
   },
   "outputs": [],
   "source": [
    "# select categorical attributes to be \"one-hot\" encoded\n",
    "log()\n",
    "\n",
    "categorical_attr_names = ['WAERS', 'BUKRS', 'KTOSL', 'PRCTR', 'BSCHL', 'HKONT']\n",
    "\n",
    "# encode categorical attributes into a binary one-hot encoded representation \n",
    "ori_dataset_categ_transformed = pd.get_dummies(ori_dataset[categorical_attr_names])"
   ]
  },
  {
   "cell_type": "code",
   "execution_count": null,
   "metadata": {
    "ExecuteTime": {
     "end_time": "2019-11-14T07:15:44.853303Z",
     "start_time": "2019-11-14T07:15:44.794108Z"
    },
    "colab": {},
    "colab_type": "code",
    "id": "9IKIhOBVGAED"
   },
   "outputs": [],
   "source": [
    "# select \"DMBTR\" vs. \"WRBTR\" attribute\n",
    "log()\n",
    "\n",
    "numeric_attr_names = ['DMBTR', 'WRBTR']\n",
    "\n",
    "# add a small epsilon to eliminate zero values from data for log scaling\n",
    "numeric_attr = ori_dataset[numeric_attr_names] + 1e-7\n",
    "numeric_attr = numeric_attr.apply(np.log)\n",
    "\n",
    "# normalize all numeric attributes to the range [0,1]\n",
    "ori_dataset_numeric_attr = (numeric_attr - numeric_attr.min()) / (numeric_attr.max() - numeric_attr.min())"
   ]
  },
  {
   "cell_type": "code",
   "execution_count": null,
   "metadata": {
    "ExecuteTime": {
     "end_time": "2019-11-14T07:17:33.180096Z",
     "start_time": "2019-11-14T07:17:32.491229Z"
    },
    "colab": {},
    "colab_type": "code",
    "id": "4xxDGjn7GAEW"
   },
   "outputs": [],
   "source": [
    "log ()\n",
    "# merge categorical and numeric subsets\n",
    "ori_subset_transformed = pd.concat([ori_dataset_categ_transformed, ori_dataset_numeric_attr], axis = 1)\n",
    "\n",
    "# inspect final dimensions of pre-processed transactional data\n",
    "ori_subset_transformed.shape"
   ]
  },
  {
   "cell_type": "code",
   "execution_count": null,
   "metadata": {
    "colab": {},
    "colab_type": "code",
    "id": "l31Urh4rGAEc"
   },
   "outputs": [],
   "source": [
    "from sklearn.preprocessing import MinMaxScaler\n",
    "from sklearn.metrics import classification_report, confusion_matrix"
   ]
  },
  {
   "cell_type": "code",
   "execution_count": null,
   "metadata": {
    "colab": {},
    "colab_type": "code",
    "id": "CuWUHXj92WG4"
   },
   "outputs": [],
   "source": [
    "df = ori_subset_transformed.copy()"
   ]
  },
  {
   "cell_type": "code",
   "execution_count": null,
   "metadata": {
    "colab": {},
    "colab_type": "code",
    "id": "vvxKx37tGAEr"
   },
   "outputs": [],
   "source": [
    "ss = MinMaxScaler()\n",
    "df_ss = ss.fit_transform(df)"
   ]
  },
  {
   "cell_type": "code",
   "execution_count": null,
   "metadata": {
    "colab": {},
    "colab_type": "code",
    "id": "w0tbCcdYNTVF"
   },
   "outputs": [],
   "source": [
    "from keras.layers import Input, Dense\n",
    "from keras.models import Model"
   ]
  },
  {
   "cell_type": "code",
   "execution_count": null,
   "metadata": {
    "colab": {},
    "colab_type": "code",
    "id": "6ofk_gf3Nc4q"
   },
   "outputs": [],
   "source": [
    "# latent space dimension\n",
    "encoding_dim = 2\n",
    "\n",
    "# input placeholder\n",
    "input_data = Input(shape = (df_ss.shape[1],))\n",
    "\n",
    "# encoded input\n",
    "encoded = Dense(512, activation = 'relu', activity_regularizer = regularizers.l1(10e-5) ) (input_data)\n",
    "encoded = Dense(256, activation='relu')(encoded)\n",
    "encoded = Dense(128, activation='relu')(encoded)\n",
    "encoded = Dense(64, activation='relu')(encoded)\n",
    "encoded = Dense(32, activation='relu')(encoded)\n",
    "encoded = Dense(16, activation='relu')(encoded)\n",
    "encoded = Dense(4, activation='relu')(encoded)\n",
    "encoded = Dense(encoding_dim, activation='relu')(encoded)\n",
    "\n",
    "# decoded input\n",
    "decoded = Dense(4, activation='relu')(encoded)\n",
    "decoded = Dense(16, activation='relu')(decoded)\n",
    "decoded = Dense(32, activation='relu')(decoded)\n",
    "decoded = Dense(64, activation='relu')(decoded)\n",
    "decoded = Dense(128, activation='relu')(decoded)\n",
    "decoded = Dense(256, activation='relu')(decoded)\n",
    "decoded = Dense(512, activation='relu')(decoded)\n",
    "decoded = Dense(df_ss.shape[1], activation='sigmoid')(decoded)\n",
    "\n",
    "# build autoencoder model\n",
    "autoencoder = Model (input_data, decoded)\n",
    "\n",
    "# build encoder for autoencoder model\n",
    "encoder = Model (input_data, encoded)\n",
    "\n",
    "# build decoder for autoencoder model\n",
    "# encoded_input = Input (shape = (encoding_dim, ) )\n",
    "# decoder_layer = autoencoder.layers[-1]\n",
    "# decoder = Model (encoded_input, decoder_layer (encoded_input) )\n",
    "\n",
    "autoencoder.compile (optimizer = 'adam', loss = 'binary_crossentropy')"
   ]
  },
  {
   "cell_type": "code",
   "execution_count": null,
   "metadata": {
    "ExecuteTime": {
     "end_time": "2019-11-14T07:17:42.579760Z",
     "start_time": "2019-11-14T07:17:35.240355Z"
    },
    "colab": {},
    "colab_type": "code",
    "id": "AymUt6KfGAEw"
   },
   "outputs": [],
   "source": [
    "print(f'Training data shape {df_ss.shape}')"
   ]
  },
  {
   "cell_type": "code",
   "execution_count": null,
   "metadata": {
    "ExecuteTime": {
     "end_time": "2019-11-14T07:17:42.609155Z",
     "start_time": "2019-11-14T07:17:42.587787Z"
    },
    "colab": {},
    "colab_type": "code",
    "id": "jDbpU1fHGAE4"
   },
   "outputs": [],
   "source": [
    "early_stopping = EarlyStopping(monitor='val_loss', patience=5, verbose=1, mode='auto')"
   ]
  },
  {
   "cell_type": "code",
   "execution_count": null,
   "metadata": {
    "ExecuteTime": {
     "end_time": "2019-11-14T07:17:42.633895Z",
     "start_time": "2019-11-14T07:17:42.611315Z"
    },
    "colab": {},
    "colab_type": "code",
    "id": "JEXxUJSSGAE7"
   },
   "outputs": [],
   "source": [
    "# checkpoint\n",
    "# filepath=\"../models/04_autoencoder_knn/{epoch:04}.hdf5\"\n",
    "filepath=\"/content/drive/My Drive/Project/deep_ae/{epoch:04}.hdf5\"\n",
    "checkpoint = ModelCheckpoint(filepath, monitor='val_loss', verbose=1, save_best_only=False, mode='max')"
   ]
  },
  {
   "cell_type": "code",
   "execution_count": null,
   "metadata": {
    "ExecuteTime": {
     "end_time": "2019-11-14T07:17:42.654836Z",
     "start_time": "2019-11-14T07:17:42.635990Z"
    },
    "colab": {},
    "colab_type": "code",
    "id": "HaTo3cSMGAE9"
   },
   "outputs": [],
   "source": [
    "# csv_logger = CSVLogger(\"../models/04_autoencoder_knn/history.csv\", append=True)\n",
    "csv_logger = CSVLogger(\"/content/drive/My Drive/Project/deep_ae/history.csv\", append=True)"
   ]
  },
  {
   "cell_type": "code",
   "execution_count": null,
   "metadata": {
    "ExecuteTime": {
     "end_time": "2019-11-14T07:19:25.076422Z",
     "start_time": "2019-11-14T07:19:24.946751Z"
    },
    "colab": {},
    "colab_type": "code",
    "id": "wPJLpjftGAE-"
   },
   "outputs": [],
   "source": [
    "autoencoder.summary()"
   ]
  },
  {
   "cell_type": "markdown",
   "metadata": {
    "colab_type": "text",
    "id": "TvJ2SpcsGAFA"
   },
   "source": [
    "## Training"
   ]
  },
  {
   "cell_type": "code",
   "execution_count": null,
   "metadata": {
    "ExecuteTime": {
     "end_time": "2019-11-14T08:29:27.923896Z",
     "start_time": "2019-11-14T07:19:28.394615Z"
    },
    "colab": {},
    "colab_type": "code",
    "id": "wOU6g_uSGAFB",
    "scrolled": true
   },
   "outputs": [],
   "source": [
    "# epochs = 10000\n",
    "# batch_size = 64\n",
    "# autoencoder_history = autoencoder.fit(\n",
    "#     df_ss, \n",
    "#     df_ss, \n",
    "#     epochs = epochs,\n",
    "#     batch_size = batch_size,\n",
    "#     shuffle = False,\n",
    "#     verbose = 2,\n",
    "#     validation_split = (1 / 3),\n",
    "#     callbacks = [\n",
    "#                  early_stopping, \n",
    "#                  checkpoint, \n",
    "#                  csv_logger\n",
    "#                  ]\n",
    "# ).history"
   ]
  },
  {
   "cell_type": "markdown",
   "metadata": {
    "colab_type": "text",
    "id": "lu3rH4JjGAFE"
   },
   "source": [
    "## Load Trained Model"
   ]
  },
  {
   "cell_type": "code",
   "execution_count": null,
   "metadata": {
    "ExecuteTime": {
     "end_time": "2019-11-14T08:33:22.125575Z",
     "start_time": "2019-11-14T08:33:22.014911Z"
    },
    "colab": {},
    "colab_type": "code",
    "id": "zmatzGRKGAFG"
   },
   "outputs": [],
   "source": [
    "# autoencoder_history = pd.read_csv(\"../models/04_autoencoder_knn/history.csv\")\n",
    "autoencoder_history = pd.read_csv(\"/content/drive/My Drive/Project/deep_ae/history.csv\")"
   ]
  },
  {
   "cell_type": "code",
   "execution_count": null,
   "metadata": {
    "ExecuteTime": {
     "end_time": "2019-11-14T08:33:42.935441Z",
     "start_time": "2019-11-14T08:33:42.619047Z"
    },
    "colab": {},
    "colab_type": "code",
    "id": "B-rEn1zDGAFJ"
   },
   "outputs": [],
   "source": [
    "# autoencoder.load_weights(f\"../models/04_autoencoder_knn/0070.hdf5\")\n",
    "autoencoder.load_weights(f\"/content/drive/My Drive/Project/deep_ae/0125.hdf5\")\n",
    "autoencoder.compile (optimizer = 'adam', loss = 'binary_crossentropy')\n",
    "autoencoder.summary()"
   ]
  },
  {
   "cell_type": "markdown",
   "metadata": {
    "colab_type": "text",
    "id": "ov1xqzICGAFP"
   },
   "source": [
    "## Visualise Training"
   ]
  },
  {
   "cell_type": "code",
   "execution_count": null,
   "metadata": {
    "ExecuteTime": {
     "end_time": "2019-11-14T08:33:46.809219Z",
     "start_time": "2019-11-14T08:33:45.853822Z"
    },
    "colab": {},
    "colab_type": "code",
    "id": "7Vbe6RS9GAFP"
   },
   "outputs": [],
   "source": [
    "fig, ax = plt.subplots(figsize = (16,9), dpi = 72)\n",
    "ax.plot(autoencoder_history['loss'], 'b', label='Train', linewidth = 2)\n",
    "ax.plot(autoencoder_history['val_loss'], 'r', label = 'Validation', linewidth = 2)\n",
    "ax.set_title('Model Loss', fontsize = 20)\n",
    "ax.set_ylabel('Loss (MSE)')\n",
    "ax.set_xlabel('Epoch')\n",
    "# ax.set_xlim(5,20)\n",
    "# ax.set_ylim(0.02,0.03)\n",
    "ax.legend(loc='best')\n",
    "plt.show"
   ]
  },
  {
   "cell_type": "code",
   "execution_count": null,
   "metadata": {
    "ExecuteTime": {
     "end_time": "2019-11-14T08:46:45.244473Z",
     "start_time": "2019-11-14T08:46:11.073265Z"
    },
    "colab": {},
    "colab_type": "code",
    "id": "DDLjG4HkGAFQ"
   },
   "outputs": [],
   "source": [
    "# encoded_data = encoder.predict(df_ss)\n",
    "X_pred_train = autoencoder.predict(df_ss)\n",
    "X_pred_train = pd.DataFrame(X_pred_train, columns = df.columns)\n",
    "X_pred_train.index = df.index"
   ]
  },
  {
   "cell_type": "code",
   "execution_count": null,
   "metadata": {
    "ExecuteTime": {
     "end_time": "2019-11-14T08:47:00.431842Z",
     "start_time": "2019-11-14T08:46:45.246843Z"
    },
    "colab": {},
    "colab_type": "code",
    "id": "_Jv3DtnLGAFS"
   },
   "outputs": [],
   "source": [
    "autoencoder_scored = pd.DataFrame(index = df.index)\n",
    "# Xtrain = X_train.reshape(X_train.shape[0], X_train.shape[2])\n",
    "autoencoder_scored['loss_mse'] = np.mean(np.abs(X_pred_train-df_ss), axis = 1)"
   ]
  },
  {
   "cell_type": "code",
   "execution_count": null,
   "metadata": {
    "ExecuteTime": {
     "end_time": "2019-11-14T08:54:29.114715Z",
     "start_time": "2019-11-14T08:54:27.918241Z"
    },
    "colab": {},
    "colab_type": "code",
    "id": "qkkf0FEMGAFU"
   },
   "outputs": [],
   "source": [
    "plt.figure(figsize=(16,9), dpi=72)\n",
    "plt.title('Loss Distribution', fontsize=20)\n",
    "sns.distplot(autoencoder_scored['loss_mse'], bins=20, kde=True, color='blue')\n",
    "# plt.xlim([0.0,0.02])\n",
    "plt.xticks(np.arange(0,0.05,0.005));"
   ]
  },
  {
   "cell_type": "markdown",
   "metadata": {
    "colab_type": "text",
    "id": "nc6WbufrGAFY"
   },
   "source": [
    "## Predict Anomaly"
   ]
  },
  {
   "cell_type": "code",
   "execution_count": null,
   "metadata": {
    "ExecuteTime": {
     "end_time": "2019-11-14T08:55:51.165904Z",
     "start_time": "2019-11-14T08:55:51.161762Z"
    },
    "colab": {},
    "colab_type": "code",
    "id": "Igmyi2AzGAFZ"
   },
   "outputs": [],
   "source": [
    "threshold = 0.02"
   ]
  },
  {
   "cell_type": "code",
   "execution_count": null,
   "metadata": {
    "ExecuteTime": {
     "end_time": "2019-11-14T08:56:12.742492Z",
     "start_time": "2019-11-14T08:56:01.506665Z"
    },
    "colab": {},
    "colab_type": "code",
    "id": "Vs9Sy2zlGAFe"
   },
   "outputs": [],
   "source": [
    "X_pred = autoencoder.predict(df_ss)\n",
    "X_pred = pd.DataFrame(X_pred, columns = df.columns)\n",
    "X_pred.index = df.index"
   ]
  },
  {
   "cell_type": "code",
   "execution_count": null,
   "metadata": {
    "ExecuteTime": {
     "end_time": "2019-11-14T08:56:14.080626Z",
     "start_time": "2019-11-14T08:56:12.745406Z"
    },
    "colab": {},
    "colab_type": "code",
    "id": "ClIpOOWTGAFf"
   },
   "outputs": [],
   "source": [
    "autoencoder_scored = pd.DataFrame(index = df.index)\n",
    "autoencoder_scored['loss_mse'] = np.mean(np.abs(X_pred-df_ss), axis=1)\n",
    "autoencoder_scored['threshold'] = threshold\n",
    "autoencoder_scored['pred_anomaly'] = (autoencoder_scored['loss_mse'] > autoencoder_scored['threshold'])\n",
    "autoencoder_scored['label'] = label"
   ]
  },
  {
   "cell_type": "code",
   "execution_count": null,
   "metadata": {
    "ExecuteTime": {
     "end_time": "2019-11-14T08:56:14.113934Z",
     "start_time": "2019-11-14T08:56:14.083484Z"
    },
    "colab": {},
    "colab_type": "code",
    "id": "NQYqL2sAGAFg"
   },
   "outputs": [],
   "source": [
    "autoencoder_scored[(autoencoder_scored.pred_anomaly == True) & (autoencoder_scored.label != \"regular\")].label.value_counts()"
   ]
  },
  {
   "cell_type": "code",
   "execution_count": null,
   "metadata": {
    "ExecuteTime": {
     "end_time": "2019-11-14T08:56:14.238696Z",
     "start_time": "2019-11-14T08:56:14.116100Z"
    },
    "colab": {},
    "colab_type": "code",
    "id": "ure4mgi9GAFi"
   },
   "outputs": [],
   "source": [
    "autoencoder_scored[(autoencoder_scored.pred_anomaly == True) & (autoencoder_scored.label == \"regular\")].loss_mse.value_counts()"
   ]
  },
  {
   "cell_type": "code",
   "execution_count": null,
   "metadata": {
    "ExecuteTime": {
     "end_time": "2019-11-14T08:56:26.871833Z",
     "start_time": "2019-11-14T08:56:26.849430Z"
    },
    "colab": {},
    "colab_type": "code",
    "id": "YwCPTDuoGAFu"
   },
   "outputs": [],
   "source": [
    "autoencoder_scored[(autoencoder_scored.pred_anomaly == False) & (autoencoder_scored.label != \"regular\")].label.value_counts()"
   ]
  },
  {
   "cell_type": "code",
   "execution_count": null,
   "metadata": {
    "ExecuteTime": {
     "end_time": "2019-11-14T08:56:31.929416Z",
     "start_time": "2019-11-14T08:56:31.898783Z"
    },
    "colab": {},
    "colab_type": "code",
    "id": "vA2MD0-7GAFw"
   },
   "outputs": [],
   "source": [
    "autoencoder_scored[(autoencoder_scored.pred_anomaly == False) & (autoencoder_scored.label == \"regular\")].label.value_counts()"
   ]
  },
  {
   "cell_type": "markdown",
   "metadata": {
    "colab_type": "text",
    "id": "AKyDYdStGAF2"
   },
   "source": [
    "|                      | Actual<br>Anomaly | Actual<br>Regular |\n",
    "|----------------------|-------------------|-------------------|\n",
    "| Predicted<br>Anomaly | 100                | 0                 |\n",
    "| Predicted<br>Regular | 0                 | 532,909           |"
   ]
  },
  {
   "cell_type": "code",
   "execution_count": 1,
   "metadata": {},
   "outputs": [],
   "source": [
    "from datetime import datetime\n",
    "start_time = datetime.now()"
   ]
  },
  {
   "cell_type": "code",
   "execution_count": 2,
   "metadata": {
    "colab": {
     "base_uri": "https://localhost:8080/",
     "height": 54
    },
    "colab_type": "code",
    "id": "YKogzqpinkc7",
    "outputId": "bd07fb46-838b-47dc-87ed-651a42d21860"
   },
   "outputs": [],
   "source": [
    "# from google.colab import drive\n",
    "# drive.mount('/content/drive')"
   ]
  },
  {
   "cell_type": "code",
   "execution_count": 3,
   "metadata": {
    "ExecuteTime": {
     "end_time": "2019-11-14T07:15:25.102282Z",
     "start_time": "2019-11-14T07:15:21.614130Z"
    },
    "colab": {
     "base_uri": "https://localhost:8080/",
     "height": 151
    },
    "colab_type": "code",
    "id": "FG3JA7nankdB",
    "outputId": "f93a2c96-38e2-44de-bc62-b977ac15b97d"
   },
   "outputs": [
    {
     "name": "stderr",
     "output_type": "stream",
     "text": [
      "C:\\ProgramData\\Anaconda3\\lib\\site-packages\\sklearn\\externals\\joblib\\__init__.py:15: DeprecationWarning: sklearn.externals.joblib is deprecated in 0.21 and will be removed in 0.23. Please import this functionality directly from joblib, which can be installed with: pip install joblib. If this warning is raised when loading pickled models, you may need to re-serialize those models with scikit-learn 0.21+.\n",
      "  warnings.warn(msg, category=DeprecationWarning)\n",
      "Using TensorFlow backend.\n"
     ]
    }
   ],
   "source": [
    "import os\n",
    "import csv\n",
    "import warnings\n",
    "import matplotlib\n",
    "import pandas as pd\n",
    "import numpy as np\n",
    "import seaborn as sns\n",
    "import matplotlib.pyplot as plt\n",
    "import tensorflow as tf\n",
    "\n",
    "from sklearn.metrics import classification_report, confusion_matrix\n",
    "from sklearn import metrics\n",
    "from sklearn.preprocessing import MinMaxScaler\n",
    "from sklearn.externals import joblib\n",
    "from numpy.random import seed\n",
    "from keras.layers import Input, Dropout, Dense, LSTM, TimeDistributed, RepeatVector, LeakyReLU\n",
    "from keras.models import Model\n",
    "from keras import regularizers\n",
    "from datetime import datetime\n",
    "from sklearn.model_selection import train_test_split\n",
    "from IPython.display import display, Markdown, HTML\n",
    "from keras.callbacks import EarlyStopping, ModelCheckpoint, CSVLogger\n",
    "\n",
    "from keras.layers import Input, Dense\n",
    "from keras.models import Model\n",
    "\n",
    "from tensorflow.keras.models import Sequential\n",
    "from tensorflow.keras.layers import Dense, Activation"
   ]
  },
  {
   "cell_type": "code",
   "execution_count": 4,
   "metadata": {
    "ExecuteTime": {
     "end_time": "2019-11-14T07:15:25.112354Z",
     "start_time": "2019-11-14T07:15:25.104710Z"
    },
    "colab": {},
    "colab_type": "code",
    "id": "8JxG-tRJnkdE"
   },
   "outputs": [],
   "source": [
    "sns.set(color_codes=True)\n",
    "%matplotlib inline"
   ]
  },
  {
   "cell_type": "code",
   "execution_count": 5,
   "metadata": {
    "ExecuteTime": {
     "end_time": "2019-11-14T07:15:25.208478Z",
     "start_time": "2019-11-14T07:15:25.115019Z"
    },
    "colab": {},
    "colab_type": "code",
    "id": "mEX9wzPFnkdF"
   },
   "outputs": [],
   "source": [
    "np.random.seed(1234)"
   ]
  },
  {
   "cell_type": "code",
   "execution_count": 6,
   "metadata": {
    "ExecuteTime": {
     "end_time": "2019-11-14T07:15:25.423967Z",
     "start_time": "2019-11-14T07:15:25.211549Z"
    },
    "colab": {
     "base_uri": "https://localhost:8080/",
     "height": 85
    },
    "colab_type": "code",
    "id": "VIX_5yFlnkdH",
    "outputId": "e29cc668-0d86-4d3d-bc58-a0337e5ffef5"
   },
   "outputs": [],
   "source": [
    "# Prevent warnings from distracting the reader\n",
    "warnings.filterwarnings('ignore')   "
   ]
  },
  {
   "cell_type": "code",
   "execution_count": 7,
   "metadata": {
    "ExecuteTime": {
     "end_time": "2019-11-14T07:15:25.431269Z",
     "start_time": "2019-11-14T07:15:25.426061Z"
    },
    "colab": {
     "base_uri": "https://localhost:8080/",
     "height": 34
    },
    "colab_type": "code",
    "id": "66D-aGNmnkdJ",
    "outputId": "fd0f6824-e2d1-4cf0-a637-74e84bbda763"
   },
   "outputs": [
    {
     "data": {
      "application/javascript": [
       "IPython.notebook.set_autosave_interval(60000)"
      ]
     },
     "metadata": {},
     "output_type": "display_data"
    },
    {
     "name": "stdout",
     "output_type": "stream",
     "text": [
      "Autosaving every 60 seconds\n"
     ]
    }
   ],
   "source": [
    "%autosave 60"
   ]
  },
  {
   "cell_type": "code",
   "execution_count": 8,
   "metadata": {
    "ExecuteTime": {
     "end_time": "2019-11-14T07:15:25.436239Z",
     "start_time": "2019-11-14T07:15:25.433182Z"
    },
    "colab": {},
    "colab_type": "code",
    "id": "cKkta-uwnkdK"
   },
   "outputs": [],
   "source": [
    "nl = \"\\n\""
   ]
  },
  {
   "cell_type": "code",
   "execution_count": 9,
   "metadata": {
    "ExecuteTime": {
     "end_time": "2019-11-14T07:15:25.445099Z",
     "start_time": "2019-11-14T07:15:25.438554Z"
    },
    "colab": {},
    "colab_type": "code",
    "id": "q8aX2hibnkdM"
   },
   "outputs": [],
   "source": [
    "if not os.path.exists('../data'): os.makedirs('../data')  # create data directory\n",
    "if not os.path.exists('../models'): os.makedirs('../models')  # create trained models directory"
   ]
  },
  {
   "cell_type": "code",
   "execution_count": 10,
   "metadata": {
    "ExecuteTime": {
     "end_time": "2019-11-14T07:15:26.002991Z",
     "start_time": "2019-11-14T07:15:25.471677Z"
    },
    "colab": {
     "base_uri": "https://localhost:8080/",
     "height": 51
    },
    "colab_type": "code",
    "id": "pVNWhhghnkdR",
    "outputId": "abdeadfb-32ff-4adb-b3f2-ac95059caa10"
   },
   "outputs": [],
   "source": [
    "# load the dataset into the notebook kernel\n",
    "ori_dataset = pd.read_csv('../data/test_set_d.csv')\n",
    "# ori_dataset = pd.read_csv('/content/drive/My Drive/Project/test_set_b.csv')"
   ]
  },
  {
   "cell_type": "code",
   "execution_count": 11,
   "metadata": {
    "ExecuteTime": {
     "end_time": "2019-11-14T07:15:27.187381Z",
     "start_time": "2019-11-14T07:15:27.163945Z"
    },
    "colab": {
     "base_uri": "https://localhost:8080/",
     "height": 34
    },
    "colab_type": "code",
    "id": "IKkHjDjqnkdS",
    "outputId": "b7e0e355-b2b1-4ed5-dc69-11628c74cbd1"
   },
   "outputs": [],
   "source": [
    "# remove the \"ground-truth\" label information for the following steps of the lab\n",
    "label = ori_dataset.pop('label')"
   ]
  },
  {
   "cell_type": "code",
   "execution_count": 12,
   "metadata": {
    "ExecuteTime": {
     "end_time": "2019-11-14T07:15:44.767685Z",
     "start_time": "2019-11-14T07:15:42.253654Z"
    },
    "colab": {
     "base_uri": "https://localhost:8080/",
     "height": 34
    },
    "colab_type": "code",
    "id": "rMK20pzonkdU",
    "outputId": "5f87bf95-7f19-4cba-8a7b-8fc203719841"
   },
   "outputs": [],
   "source": [
    "# select categorical attributes to be \"one-hot\" encoded\n",
    "categorical_attr_names = ['WAERS', 'BUKRS', 'KTOSL', 'PRCTR', 'BSCHL', 'HKONT']\n",
    "\n",
    "# encode categorical attributes into a binary one-hot encoded representation \n",
    "ori_dataset_categ_transformed = pd.get_dummies(ori_dataset[categorical_attr_names])"
   ]
  },
  {
   "cell_type": "code",
   "execution_count": 13,
   "metadata": {
    "ExecuteTime": {
     "end_time": "2019-11-14T07:15:44.853303Z",
     "start_time": "2019-11-14T07:15:44.794108Z"
    },
    "colab": {
     "base_uri": "https://localhost:8080/",
     "height": 34
    },
    "colab_type": "code",
    "id": "29bK-wtjnkdW",
    "outputId": "cc12bb16-27f3-4303-86b5-560114c64628"
   },
   "outputs": [],
   "source": [
    "# select \"DMBTR\" vs. \"WRBTR\" attribute\n",
    "\n",
    "numeric_attr_names = ['DMBTR', 'WRBTR']\n",
    "\n",
    "# add a small epsilon to eliminate zero values from data for log scaling\n",
    "numeric_attr = ori_dataset[numeric_attr_names] + 1e-7\n",
    "numeric_attr = numeric_attr.apply(np.log)\n",
    "\n",
    "# normalize all numeric attributes to the range [0,1]\n",
    "ori_dataset_numeric_attr = (numeric_attr - numeric_attr.min()) / (numeric_attr.max() - numeric_attr.min())"
   ]
  },
  {
   "cell_type": "code",
   "execution_count": 14,
   "metadata": {
    "ExecuteTime": {
     "end_time": "2019-11-14T07:17:33.180096Z",
     "start_time": "2019-11-14T07:17:32.491229Z"
    },
    "colab": {
     "base_uri": "https://localhost:8080/",
     "height": 51
    },
    "colab_type": "code",
    "id": "rbxxwR1tnkdX",
    "outputId": "7eebe4cc-bf63-4636-aa1b-75f06c0ef0b1"
   },
   "outputs": [],
   "source": [
    "# merge categorical and numeric subsets\n",
    "ori_subset_transformed = pd.concat([ori_dataset_categ_transformed, ori_dataset_numeric_attr], axis = 1)"
   ]
  },
  {
   "cell_type": "code",
   "execution_count": 15,
   "metadata": {
    "colab": {},
    "colab_type": "code",
    "id": "jozrYbT7pXX7"
   },
   "outputs": [],
   "source": [
    "with open('../data/check_columns.csv', 'r', newline='', encoding='utf-8') as readFile:\n",
    "# with open('/content/drive/My Drive/Project/check_columns.csv', 'r', newline='', encoding='utf-8') as readFile:\n",
    "    reader = csv.reader(readFile, dialect='excel')\n",
    "    check_columns = list(reader)[0]"
   ]
  },
  {
   "cell_type": "code",
   "execution_count": 16,
   "metadata": {
    "colab": {
     "base_uri": "https://localhost:8080/",
     "height": 34
    },
    "colab_type": "code",
    "id": "ite7Agy6pXYD",
    "outputId": "d29a5aa8-c693-4c1a-c409-ab063e29bed5"
   },
   "outputs": [],
   "source": [
    "for i in check_columns:\n",
    "    if i not in ori_subset_transformed:\n",
    "        ori_subset_transformed[i] = 0"
   ]
  },
  {
   "cell_type": "code",
   "execution_count": 17,
   "metadata": {
    "colab": {},
    "colab_type": "code",
    "id": "2Su1SRWznkda"
   },
   "outputs": [],
   "source": [
    "df = ori_subset_transformed.copy()"
   ]
  },
  {
   "cell_type": "code",
   "execution_count": 18,
   "metadata": {
    "colab": {},
    "colab_type": "code",
    "id": "aDaCAzhJnkdc"
   },
   "outputs": [],
   "source": [
    "ss = MinMaxScaler()\n",
    "df_ss = ss.fit_transform(df)"
   ]
  },
  {
   "cell_type": "code",
   "execution_count": 19,
   "metadata": {
    "colab": {},
    "colab_type": "code",
    "id": "OjAjw_UbtzwR"
   },
   "outputs": [],
   "source": [
    "from keras.layers import Input, Dense\n",
    "from keras.models import Model"
   ]
  },
  {
   "cell_type": "code",
   "execution_count": 20,
   "metadata": {},
   "outputs": [
    {
     "name": "stdout",
     "output_type": "stream",
     "text": [
      "WARNING:tensorflow:From C:\\ProgramData\\Anaconda3\\lib\\site-packages\\tensorflow\\python\\ops\\nn_impl.py:180: add_dispatch_support.<locals>.wrapper (from tensorflow.python.ops.array_ops) is deprecated and will be removed in a future version.\n",
      "Instructions for updating:\n",
      "Use tf.where in 2.0, which has the same broadcast rule as np.where\n"
     ]
    }
   ],
   "source": [
    "# latent space dimension\n",
    "encoding_dim = 2\n",
    "\n",
    "# input placeholder\n",
    "input_data = Input(shape = (df_ss.shape[1],))\n",
    "\n",
    "# encoded input\n",
    "encoded = Dense(512, activation = 'relu', activity_regularizer = regularizers.l1(10e-5) ) (input_data)\n",
    "encoded = Dense(256, activation='relu')(encoded)\n",
    "encoded = Dense(128, activation='relu')(encoded)\n",
    "encoded = Dense(64, activation='relu')(encoded)\n",
    "encoded = Dense(32, activation='relu')(encoded)\n",
    "encoded = Dense(16, activation='relu')(encoded)\n",
    "encoded = Dense(4, activation='relu')(encoded)\n",
    "encoded = Dense(encoding_dim, activation='relu')(encoded)\n",
    "\n",
    "# decoded input\n",
    "decoded = Dense(4, activation='relu')(encoded)\n",
    "decoded = Dense(16, activation='relu')(decoded)\n",
    "decoded = Dense(32, activation='relu')(decoded)\n",
    "decoded = Dense(64, activation='relu')(decoded)\n",
    "decoded = Dense(128, activation='relu')(decoded)\n",
    "decoded = Dense(256, activation='relu')(decoded)\n",
    "decoded = Dense(512, activation='relu')(decoded)\n",
    "decoded = Dense(df_ss.shape[1], activation='sigmoid')(decoded)\n",
    "\n",
    "# build autoencoder model\n",
    "autoencoder = Model (input_data, decoded)\n",
    "\n",
    "# build encoder for autoencoder model\n",
    "encoder = Model (input_data, encoded)\n",
    "\n",
    "# build decoder for autoencoder model\n",
    "# encoded_input = Input (shape = (encoding_dim, ) )\n",
    "# decoder_layer = autoencoder.layers[-1]\n",
    "# decoder = Model (encoded_input, decoder_layer (encoded_input) )\n",
    "\n",
    "autoencoder.compile (optimizer = 'adam', loss = 'binary_crossentropy')"
   ]
  },
  {
   "cell_type": "code",
   "execution_count": 21,
   "metadata": {
    "ExecuteTime": {
     "end_time": "2019-11-14T07:17:42.609155Z",
     "start_time": "2019-11-14T07:17:42.587787Z"
    },
    "colab": {},
    "colab_type": "code",
    "id": "QtxVzogGnkdl"
   },
   "outputs": [],
   "source": [
    "early_stopping = EarlyStopping(monitor='val_loss', patience=5, verbose=1, mode='auto')"
   ]
  },
  {
   "cell_type": "code",
   "execution_count": 22,
   "metadata": {
    "ExecuteTime": {
     "end_time": "2019-11-14T08:29:27.923896Z",
     "start_time": "2019-11-14T07:19:28.394615Z"
    },
    "colab": {
     "base_uri": "https://localhost:8080/",
     "height": 1000
    },
    "colab_type": "code",
    "id": "GeX0iuU2nkdt",
    "outputId": "8fdc1eae-d48f-43bf-bafc-0264548fe961",
    "scrolled": false
   },
   "outputs": [
    {
     "name": "stdout",
     "output_type": "stream",
     "text": [
      "WARNING:tensorflow:From C:\\ProgramData\\Anaconda3\\lib\\site-packages\\keras\\backend\\tensorflow_backend.py:422: The name tf.global_variables is deprecated. Please use tf.compat.v1.global_variables instead.\n",
      "\n",
      "Train on 22204 samples, validate on 11103 samples\n",
      "Epoch 1/100\n",
      " - 9s - loss: 0.0700 - val_loss: 0.0314\n",
      "Epoch 2/100\n",
      " - 6s - loss: 0.0312 - val_loss: 0.0314\n",
      "Epoch 3/100\n",
      " - 7s - loss: 0.0312 - val_loss: 0.0313\n",
      "Epoch 4/100\n",
      " - 6s - loss: 0.0312 - val_loss: 0.0313\n",
      "Epoch 5/100\n",
      " - 6s - loss: 0.0311 - val_loss: 0.0312\n",
      "Epoch 6/100\n",
      " - 7s - loss: 0.0311 - val_loss: 0.0312\n",
      "Epoch 7/100\n",
      " - 6s - loss: 0.0311 - val_loss: 0.0312\n",
      "Epoch 8/100\n",
      " - 6s - loss: 0.0311 - val_loss: 0.0312\n",
      "Epoch 9/100\n",
      " - 7s - loss: 0.0311 - val_loss: 0.0312\n",
      "Epoch 10/100\n",
      " - 6s - loss: 0.0311 - val_loss: 0.0312\n",
      "Epoch 11/100\n",
      " - 7s - loss: 0.0311 - val_loss: 0.0312\n",
      "Epoch 12/100\n",
      " - 6s - loss: 0.0311 - val_loss: 0.0312\n",
      "Epoch 13/100\n",
      " - 6s - loss: 0.0311 - val_loss: 0.0312\n",
      "Epoch 14/100\n",
      " - 6s - loss: 0.0311 - val_loss: 0.0312\n",
      "Epoch 15/100\n",
      " - 6s - loss: 0.0311 - val_loss: 0.0312\n",
      "Epoch 16/100\n",
      " - 7s - loss: 0.0311 - val_loss: 0.0312\n",
      "Epoch 17/100\n",
      " - 6s - loss: 0.0311 - val_loss: 0.0312\n",
      "Epoch 18/100\n",
      " - 6s - loss: 0.0311 - val_loss: 0.0312\n",
      "Epoch 19/100\n",
      " - 7s - loss: 0.0311 - val_loss: 0.0312\n",
      "Epoch 20/100\n",
      " - 6s - loss: 0.0311 - val_loss: 0.0312\n",
      "Epoch 21/100\n",
      " - 7s - loss: 0.0311 - val_loss: 0.0312\n",
      "Epoch 22/100\n",
      " - 6s - loss: 0.0311 - val_loss: 0.0312\n",
      "Epoch 23/100\n",
      " - 6s - loss: 0.0310 - val_loss: 0.0311\n",
      "Epoch 24/100\n",
      " - 7s - loss: 0.0310 - val_loss: 0.0311\n",
      "Epoch 25/100\n",
      " - 7s - loss: 0.0310 - val_loss: 0.0311\n",
      "Epoch 26/100\n",
      " - 7s - loss: 0.0310 - val_loss: 0.0311\n",
      "Epoch 27/100\n",
      " - 6s - loss: 0.0310 - val_loss: 0.0311\n",
      "Epoch 28/100\n",
      " - 6s - loss: 0.0310 - val_loss: 0.0311\n",
      "Epoch 29/100\n",
      " - 7s - loss: 0.0310 - val_loss: 0.0311\n",
      "Epoch 30/100\n",
      " - 6s - loss: 0.0310 - val_loss: 0.0311\n",
      "Epoch 31/100\n",
      " - 7s - loss: 0.0310 - val_loss: 0.0311\n",
      "Epoch 32/100\n",
      " - 6s - loss: 0.0310 - val_loss: 0.0311\n",
      "Epoch 33/100\n",
      " - 6s - loss: 0.0310 - val_loss: 0.0311\n",
      "Epoch 34/100\n",
      " - 7s - loss: 0.0310 - val_loss: 0.0311\n",
      "Epoch 35/100\n",
      " - 6s - loss: 0.0310 - val_loss: 0.0311\n",
      "Epoch 36/100\n",
      " - 7s - loss: 0.0310 - val_loss: 0.0311\n",
      "Epoch 37/100\n",
      " - 6s - loss: 0.0310 - val_loss: 0.0311\n",
      "Epoch 38/100\n",
      " - 6s - loss: 0.0310 - val_loss: 0.0311\n",
      "Epoch 39/100\n",
      " - 7s - loss: 0.0310 - val_loss: 0.0311\n",
      "Epoch 40/100\n",
      " - 6s - loss: 0.0310 - val_loss: 0.0311\n",
      "Epoch 41/100\n",
      " - 7s - loss: 0.0310 - val_loss: 0.0311\n",
      "Epoch 42/100\n",
      " - 6s - loss: 0.0310 - val_loss: 0.0311\n",
      "Epoch 43/100\n",
      " - 6s - loss: 0.0310 - val_loss: 0.0311\n",
      "Epoch 44/100\n",
      " - 7s - loss: 0.0310 - val_loss: 0.0311\n",
      "Epoch 45/100\n",
      " - 6s - loss: 0.0310 - val_loss: 0.0311\n",
      "Epoch 46/100\n",
      " - 7s - loss: 0.0310 - val_loss: 0.0311\n",
      "Epoch 47/100\n",
      " - 6s - loss: 0.0310 - val_loss: 0.0311\n",
      "Epoch 48/100\n",
      " - 6s - loss: 0.0310 - val_loss: 0.0311\n",
      "Epoch 49/100\n",
      " - 7s - loss: 0.0310 - val_loss: 0.0311\n",
      "Epoch 50/100\n",
      " - 6s - loss: 0.0310 - val_loss: 0.0311\n",
      "Epoch 51/100\n",
      " - 7s - loss: 0.0310 - val_loss: 0.0311\n",
      "Epoch 52/100\n",
      " - 6s - loss: 0.0310 - val_loss: 0.0311\n",
      "Epoch 53/100\n",
      " - 6s - loss: 0.0310 - val_loss: 0.0311\n",
      "Epoch 54/100\n",
      " - 7s - loss: 0.0310 - val_loss: 0.0311\n",
      "Epoch 55/100\n",
      " - 6s - loss: 0.0310 - val_loss: 0.0311\n",
      "Epoch 56/100\n",
      " - 7s - loss: 0.0310 - val_loss: 0.0311\n",
      "Epoch 57/100\n",
      " - 6s - loss: 0.0310 - val_loss: 0.0311\n",
      "Epoch 58/100\n",
      " - 6s - loss: 0.0310 - val_loss: 0.0311\n",
      "Epoch 59/100\n",
      " - 7s - loss: 0.0310 - val_loss: 0.0311\n",
      "Epoch 60/100\n",
      " - 6s - loss: 0.0310 - val_loss: 0.0311\n",
      "Epoch 61/100\n",
      " - 7s - loss: 0.0310 - val_loss: 0.0311\n",
      "Epoch 62/100\n",
      " - 6s - loss: 0.0310 - val_loss: 0.0311\n",
      "Epoch 63/100\n",
      " - 6s - loss: 0.0310 - val_loss: 0.0311\n",
      "Epoch 64/100\n",
      " - 7s - loss: 0.0310 - val_loss: 0.0311\n",
      "Epoch 65/100\n",
      " - 6s - loss: 0.0310 - val_loss: 0.0311\n",
      "Epoch 66/100\n",
      " - 7s - loss: 0.0310 - val_loss: 0.0311\n",
      "Epoch 67/100\n",
      " - 6s - loss: 0.0310 - val_loss: 0.0311\n",
      "Epoch 68/100\n",
      " - 7s - loss: 0.0310 - val_loss: 0.0311\n",
      "Epoch 69/100\n",
      " - 7s - loss: 0.0310 - val_loss: 0.0311\n",
      "Epoch 70/100\n",
      " - 6s - loss: 0.0310 - val_loss: 0.0311\n",
      "Epoch 71/100\n",
      " - 7s - loss: 0.0310 - val_loss: 0.0311\n",
      "Epoch 72/100\n",
      " - 6s - loss: 0.0310 - val_loss: 0.0311\n",
      "Epoch 73/100\n",
      " - 6s - loss: 0.0310 - val_loss: 0.0311\n",
      "Epoch 74/100\n",
      " - 7s - loss: 0.0310 - val_loss: 0.0311\n",
      "Epoch 75/100\n",
      " - 6s - loss: 0.0310 - val_loss: 0.0311\n",
      "Epoch 76/100\n",
      " - 7s - loss: 0.0310 - val_loss: 0.0311\n",
      "Epoch 77/100\n",
      " - 6s - loss: 0.0310 - val_loss: 0.0311\n",
      "Epoch 78/100\n",
      " - 7s - loss: 0.0310 - val_loss: 0.0311\n",
      "Epoch 79/100\n",
      " - 6s - loss: 0.0310 - val_loss: 0.0311\n",
      "Epoch 80/100\n",
      " - 7s - loss: 0.0310 - val_loss: 0.0311\n",
      "Epoch 81/100\n",
      " - 7s - loss: 0.0310 - val_loss: 0.0311\n",
      "Epoch 82/100\n",
      " - 6s - loss: 0.0310 - val_loss: 0.0311\n",
      "Epoch 83/100\n",
      " - 7s - loss: 0.0310 - val_loss: 0.0311\n",
      "Epoch 84/100\n",
      " - 6s - loss: 0.0310 - val_loss: 0.0311\n",
      "Epoch 85/100\n",
      " - 6s - loss: 0.0310 - val_loss: 0.0311\n",
      "Epoch 86/100\n",
      " - 7s - loss: 0.0310 - val_loss: 0.0311\n",
      "Epoch 87/100\n",
      " - 6s - loss: 0.0310 - val_loss: 0.0311\n",
      "Epoch 88/100\n",
      " - 7s - loss: 0.0310 - val_loss: 0.0311\n",
      "Epoch 89/100\n",
      " - 6s - loss: 0.0310 - val_loss: 0.0311\n",
      "Epoch 90/100\n",
      " - 6s - loss: 0.0310 - val_loss: 0.0311\n",
      "Epoch 91/100\n",
      " - 7s - loss: 0.0310 - val_loss: 0.0311\n",
      "Epoch 92/100\n",
      " - 6s - loss: 0.0310 - val_loss: 0.0311\n",
      "Epoch 93/100\n",
      " - 8s - loss: 0.0310 - val_loss: 0.0311\n",
      "Epoch 94/100\n",
      " - 6s - loss: 0.0310 - val_loss: 0.0311\n",
      "Epoch 95/100\n",
      " - 6s - loss: 0.0310 - val_loss: 0.0311\n",
      "Epoch 96/100\n",
      " - 7s - loss: 0.0310 - val_loss: 0.0311\n",
      "Epoch 97/100\n",
      " - 6s - loss: 0.0310 - val_loss: 0.0311\n",
      "Epoch 98/100\n",
      " - 7s - loss: 0.0310 - val_loss: 0.0311\n",
      "Epoch 99/100\n",
      " - 6s - loss: 0.0310 - val_loss: 0.0311\n",
      "Epoch 100/100\n",
      " - 6s - loss: 0.0310 - val_loss: 0.0311\n"
     ]
    }
   ],
   "source": [
    "epochs = 100\n",
    "batch_size = 64\n",
    "autoencoder_history = autoencoder.fit(\n",
    "    df_ss, \n",
    "    df_ss, \n",
    "    epochs = epochs,\n",
    "    batch_size = batch_size,\n",
    "    shuffle = False,\n",
    "    verbose = 2,\n",
    "    validation_split = (1 / 3),\n",
    "#     callbacks = [\n",
    "#                  early_stopping, \n",
    "#                  ]\n",
    ").history"
   ]
  },
  {
   "cell_type": "code",
   "execution_count": 23,
   "metadata": {},
   "outputs": [],
   "source": [
    "anomaly_ratio = 0.0002"
   ]
  },
  {
   "cell_type": "code",
   "execution_count": 24,
   "metadata": {},
   "outputs": [],
   "source": [
    "head = int(anomaly_ratio * df_ss.shape[0])"
   ]
  },
  {
   "cell_type": "code",
   "execution_count": 25,
   "metadata": {
    "colab": {},
    "colab_type": "code",
    "id": "iC4klToFnkeC"
   },
   "outputs": [],
   "source": [
    "threshold = 0.019"
   ]
  },
  {
   "cell_type": "code",
   "execution_count": 26,
   "metadata": {
    "ExecuteTime": {
     "end_time": "2019-11-14T08:56:12.742492Z",
     "start_time": "2019-11-14T08:56:01.506665Z"
    },
    "colab": {},
    "colab_type": "code",
    "id": "g4kqTVZfnkeF"
   },
   "outputs": [],
   "source": [
    "X_pred = autoencoder.predict(df_ss)\n",
    "X_pred = pd.DataFrame(X_pred, columns = df.columns)\n",
    "X_pred.index = df.index"
   ]
  },
  {
   "cell_type": "code",
   "execution_count": 27,
   "metadata": {
    "ExecuteTime": {
     "end_time": "2019-11-14T08:56:14.080626Z",
     "start_time": "2019-11-14T08:56:12.745406Z"
    },
    "colab": {},
    "colab_type": "code",
    "id": "9q_kbxgunkeG"
   },
   "outputs": [],
   "source": [
    "autoencoder_scored = pd.DataFrame(index = df.index)\n",
    "autoencoder_scored['anomaly_score'] = np.mean(np.abs(X_pred-df_ss), axis=1)\n",
    "autoencoder_scored = autoencoder_scored.sort_values('anomaly_score', ascending=False).head(head)"
   ]
  },
  {
   "cell_type": "code",
   "execution_count": 28,
   "metadata": {},
   "outputs": [
    {
     "data": {
      "text/html": [
       "<div>\n",
       "<style scoped>\n",
       "    .dataframe tbody tr th:only-of-type {\n",
       "        vertical-align: middle;\n",
       "    }\n",
       "\n",
       "    .dataframe tbody tr th {\n",
       "        vertical-align: top;\n",
       "    }\n",
       "\n",
       "    .dataframe thead th {\n",
       "        text-align: right;\n",
       "    }\n",
       "</style>\n",
       "<table border=\"1\" class=\"dataframe\">\n",
       "  <thead>\n",
       "    <tr style=\"text-align: right;\">\n",
       "      <th></th>\n",
       "      <th>anomaly_score</th>\n",
       "    </tr>\n",
       "  </thead>\n",
       "  <tbody>\n",
       "    <tr>\n",
       "      <th>30016</th>\n",
       "      <td>0.019385</td>\n",
       "    </tr>\n",
       "    <tr>\n",
       "      <th>16131</th>\n",
       "      <td>0.019314</td>\n",
       "    </tr>\n",
       "    <tr>\n",
       "      <th>14972</th>\n",
       "      <td>0.019202</td>\n",
       "    </tr>\n",
       "    <tr>\n",
       "      <th>11781</th>\n",
       "      <td>0.019186</td>\n",
       "    </tr>\n",
       "    <tr>\n",
       "      <th>16651</th>\n",
       "      <td>0.019179</td>\n",
       "    </tr>\n",
       "    <tr>\n",
       "      <th>17043</th>\n",
       "      <td>0.019141</td>\n",
       "    </tr>\n",
       "  </tbody>\n",
       "</table>\n",
       "</div>"
      ],
      "text/plain": [
       "       anomaly_score\n",
       "30016       0.019385\n",
       "16131       0.019314\n",
       "14972       0.019202\n",
       "11781       0.019186\n",
       "16651       0.019179\n",
       "17043       0.019141"
      ]
     },
     "execution_count": 28,
     "metadata": {},
     "output_type": "execute_result"
    }
   ],
   "source": [
    "autoencoder_scored.sort_values('anomaly_score', ascending=False)"
   ]
  },
  {
   "cell_type": "code",
   "execution_count": 29,
   "metadata": {},
   "outputs": [
    {
     "data": {
      "text/plain": [
       "Series([], Name: label, dtype: object)"
      ]
     },
     "execution_count": 29,
     "metadata": {},
     "output_type": "execute_result"
    }
   ],
   "source": [
    "label[(label != 'regular')]"
   ]
  },
  {
   "cell_type": "code",
   "execution_count": 30,
   "metadata": {},
   "outputs": [],
   "source": [
    "autoencoder_scored['threshold'] = threshold\n",
    "autoencoder_scored['pred_anomaly'] = (autoencoder_scored.anomaly_score >= autoencoder_scored.threshold)"
   ]
  },
  {
   "cell_type": "code",
   "execution_count": 31,
   "metadata": {
    "colab": {},
    "colab_type": "code",
    "id": "oTvXfd5Rx00k"
   },
   "outputs": [],
   "source": [
    "df_results = autoencoder_scored[(autoencoder_scored.pred_anomaly == True)]['pred_anomaly']"
   ]
  },
  {
   "cell_type": "code",
   "execution_count": 32,
   "metadata": {
    "colab": {},
    "colab_type": "code",
    "id": "VfHr0hRHzEVQ"
   },
   "outputs": [],
   "source": [
    "df_results = pd.concat([ori_dataset.iloc[df_results.index]], axis = 1)"
   ]
  },
  {
   "cell_type": "code",
   "execution_count": 33,
   "metadata": {
    "colab": {},
    "colab_type": "code",
    "id": "UIGz6hXj5_9h"
   },
   "outputs": [],
   "source": [
    "html_string = '''\n",
    "<html>\n",
    "  <head><title>Fraud Scan Results</title></head>\n",
    "  <link rel=\"stylesheet\" type=\"text/css\" href=\"../code/df_style.css\"/>\n",
    "  <body>\n",
    "    <h1 align = 'center'>Fraud Scan Results</h1>\n",
    "    <p align = 'center'>Review {n_anomalies} detected issues</p>\n",
    "    <p align = 'center'>{table}</p>\n",
    "    <p align = 'center'>Time Taken: {time_taken}</p>\n",
    "  </body>\n",
    "</html>.\n",
    "'''\n",
    "\n",
    "# OUTPUT AN HTML FILE\n",
    "with open('../data/results.html', 'w') as f:\n",
    "    f.write(\n",
    "        html_string.format(\n",
    "            n_anomalies = \\\n",
    "            df_results.shape[0],\n",
    "            table=df_results.to_html(classes='mystyle'), \n",
    "            time_taken=(datetime.now() - start_time)\n",
    "        )\n",
    "    )\n",
    "    "
   ]
  }
 ],
 "metadata": {
  "accelerator": "GPU",
  "colab": {
   "machine_shape": "hm",
   "name": "aa_07_technical_report_autoencoder.ipynb",
   "provenance": [],
   "toc_visible": true
  },
  "kernelspec": {
   "display_name": "Python 3",
   "language": "python",
   "name": "python3"
  },
  "language_info": {
   "codemirror_mode": {
    "name": "ipython",
    "version": 3
   },
   "file_extension": ".py",
   "mimetype": "text/x-python",
   "name": "python",
   "nbconvert_exporter": "python",
   "pygments_lexer": "ipython3",
   "version": "3.7.3"
  },
  "toc": {
   "base_numbering": 1,
   "nav_menu": {},
   "number_sections": true,
   "sideBar": true,
   "skip_h1_title": false,
   "title_cell": "Table of Contents",
   "title_sidebar": "Contents",
   "toc_cell": true,
   "toc_position": {
    "height": "calc(100% - 180px)",
    "left": "10px",
    "top": "150px",
    "width": "288px"
   },
   "toc_section_display": true,
   "toc_window_display": true
  }
 },
 "nbformat": 4,
 "nbformat_minor": 1
}
