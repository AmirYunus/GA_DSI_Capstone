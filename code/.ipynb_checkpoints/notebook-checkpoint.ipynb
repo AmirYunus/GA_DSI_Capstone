{
 "cells": [
  {
   "cell_type": "code",
   "execution_count": 1,
   "metadata": {},
   "outputs": [],
   "source": [
    "%load_ext autotime"
   ]
  },
  {
   "cell_type": "code",
   "execution_count": 2,
   "metadata": {},
   "outputs": [
    {
     "name": "stdout",
     "output_type": "stream",
     "text": [
      "time: 1min 9s\n"
     ]
    }
   ],
   "source": [
    "import pandas as pd\n",
    "import numpy as np\n",
    "import glob"
   ]
  },
  {
   "cell_type": "code",
   "execution_count": 280,
   "metadata": {},
   "outputs": [
    {
     "name": "stdout",
     "output_type": "stream",
     "text": [
      "time: 2.06 ms\n"
     ]
    }
   ],
   "source": [
    "def sleep_eff (subjects):\n",
    "    dic = dict()\n",
    "    for sub in subjects:\n",
    "        df = pd.read_csv(f'../data/sleep/{sub}_labeled_sleep.txt', header = None, sep=' ')\n",
    "        df = df.rename(columns={0:'seconds', 1:sub})\n",
    "#         df = df[(df['seconds'] >= -57600) & (df['seconds'] <= 0)]\n",
    "        time_slept = ((df.iloc[:,1] > 0).apply(np.count_nonzero).sum())\n",
    "        total_time = (df.shape[0]) - 1\n",
    "        sleep = time_slept / total_time\n",
    "        dic[sub] = sleep\n",
    "    df_sleep_eff = pd.DataFrame.from_dict(dic,orient='index').rename(columns={0:'sleep_eff'})\n",
    "    return df_sleep_eff"
   ]
  },
  {
   "cell_type": "code",
   "execution_count": 247,
   "metadata": {},
   "outputs": [
    {
     "name": "stdout",
     "output_type": "stream",
     "text": [
      "time: 2.56 ms\n"
     ]
    }
   ],
   "source": [
    "def steps_t (subjects):\n",
    "    dic = dict()\n",
    "    for sub in subjects:\n",
    "        df = pd.read_csv(f'../data/steps/{sub}_steps.txt', header = None, sep=',')\n",
    "        df = df.rename(columns={0:'seconds', 1:sub})\n",
    "        df = df[(df['seconds'] >= -57600) & (df['seconds'] <= 0)]\n",
    "        steps = df.iloc[:,1].sum()\n",
    "        dic[sub] = steps\n",
    "    df_steps_t = pd.DataFrame.from_dict(dic,orient='index').rename(columns={0:'steps t'})\n",
    "    return df_steps_t"
   ]
  },
  {
   "cell_type": "code",
   "execution_count": 274,
   "metadata": {},
   "outputs": [
    {
     "name": "stdout",
     "output_type": "stream",
     "text": [
      "time: 2.03 ms\n"
     ]
    }
   ],
   "source": [
    "def steps_t_1 (subjects):\n",
    "    dic = dict()\n",
    "    for sub in subjects:\n",
    "        df = pd.read_csv(f'../data/steps/{sub}_steps.txt', header = None, sep=',')\n",
    "        df = df.rename(columns={0:'seconds', 1:sub})\n",
    "        df = df[(df['seconds'] >= -144000) & (df['seconds'] <= -86400)]\n",
    "        steps = df.iloc[:,1].sum()\n",
    "        dic[sub] = steps\n",
    "    df_steps_t_1 = pd.DataFrame.from_dict(dic,orient='index').rename(columns={0:'steps t-1'})\n",
    "    return df_steps_t_1"
   ]
  },
  {
   "cell_type": "code",
   "execution_count": 269,
   "metadata": {},
   "outputs": [
    {
     "name": "stdout",
     "output_type": "stream",
     "text": [
      "time: 2.9 ms\n"
     ]
    }
   ],
   "source": [
    "def bpm_t (subjects):\n",
    "    dic = dict()\n",
    "    for sub in subjects:\n",
    "        df = pd.read_csv(f'../data/heart_rate/{sub}_heartrate.txt', header = None, sep=',')\n",
    "        df = df.rename(columns={0:'seconds', 1:sub})\n",
    "        df = df[(df['seconds'] >= -57600) & (df['seconds'] <= 0)]\n",
    "        bpm = df.iloc[:,1].mean()\n",
    "        dic[sub] = bpm\n",
    "    df_bpm_t = pd.DataFrame.from_dict(dic,orient='index').rename(columns={0:'bpm t'})\n",
    "    return df_bpm_t"
   ]
  },
  {
   "cell_type": "code",
   "execution_count": 270,
   "metadata": {},
   "outputs": [
    {
     "name": "stdout",
     "output_type": "stream",
     "text": [
      "time: 2.2 ms\n"
     ]
    }
   ],
   "source": [
    "def bpm_t_1 (subjects):\n",
    "    dic = dict()\n",
    "    for sub in subjects:\n",
    "        df = pd.read_csv(f'../data/heart_rate/{sub}_heartrate.txt', header = None, sep=',')\n",
    "        df = df.rename(columns={0:'seconds', 1:sub})\n",
    "        df = df[(df['seconds'] >= -144000) & (df['seconds'] <= -86400)]\n",
    "        bpm = df.iloc[:,1].mean()\n",
    "        dic[sub] = bpm\n",
    "    df_bpm_t_1 = pd.DataFrame.from_dict(dic,orient='index').rename(columns={0:'bpm t-1'})\n",
    "    return df_bpm_t_1"
   ]
  },
  {
   "cell_type": "code",
   "execution_count": 9,
   "metadata": {},
   "outputs": [
    {
     "name": "stdout",
     "output_type": "stream",
     "text": [
      "time: 3.83 s\n"
     ]
    }
   ],
   "source": [
    "subjects = ['46343', '759667', '781756', '844359', '1066528', \\\n",
    "            '1360686', '1449548', '1455390', '1818471', '2598705', \\\n",
    "            '2638030', '3509524', '3997827', '4018081', '4314139', \\\n",
    "            '4426783', '5132496', '5383425', '5498603', '5797046', \\\n",
    "            '6220552', '7749105', '8000685', '8173033', '8258170', \\\n",
    "            '8530312', '8686948', '8692923', '9106476', '9618981', '9961348']"
   ]
  },
  {
   "cell_type": "code",
   "execution_count": 284,
   "metadata": {},
   "outputs": [
    {
     "name": "stdout",
     "output_type": "stream",
     "text": [
      "time: 141 ms\n"
     ]
    }
   ],
   "source": [
    "df_sleep_eff = sleep_eff (subjects)\n",
    "# df_sleep_eff"
   ]
  },
  {
   "cell_type": "code",
   "execution_count": 285,
   "metadata": {},
   "outputs": [
    {
     "name": "stdout",
     "output_type": "stream",
     "text": [
      "time: 141 ms\n"
     ]
    }
   ],
   "source": [
    "df_steps_t = steps_t (subjects)\n",
    "# df_steps_t"
   ]
  },
  {
   "cell_type": "code",
   "execution_count": 286,
   "metadata": {},
   "outputs": [
    {
     "name": "stdout",
     "output_type": "stream",
     "text": [
      "time: 146 ms\n"
     ]
    }
   ],
   "source": [
    "df_steps_t_1 = steps_t_1 (subjects)\n",
    "# df_steps_t_1"
   ]
  },
  {
   "cell_type": "code",
   "execution_count": 287,
   "metadata": {},
   "outputs": [
    {
     "name": "stdout",
     "output_type": "stream",
     "text": [
      "time: 282 ms\n"
     ]
    }
   ],
   "source": [
    "df_bpm_t = bpm_t(subjects)\n",
    "# df_bpm_t"
   ]
  },
  {
   "cell_type": "code",
   "execution_count": 288,
   "metadata": {},
   "outputs": [
    {
     "name": "stdout",
     "output_type": "stream",
     "text": [
      "time: 276 ms\n"
     ]
    }
   ],
   "source": [
    "df_bpm_t_1 = bpm_t_1(subjects)\n",
    "# df_bpm_t_1"
   ]
  },
  {
   "cell_type": "code",
   "execution_count": 296,
   "metadata": {},
   "outputs": [
    {
     "name": "stdout",
     "output_type": "stream",
     "text": [
      "time: 2 ms\n"
     ]
    }
   ],
   "source": [
    "df_train = pd.concat([df_bpm_t, df_bpm_t_1, df_steps_t, df_steps_t_1], axis=1, sort=False)\n",
    "# df_train"
   ]
  },
  {
   "cell_type": "code",
   "execution_count": 301,
   "metadata": {},
   "outputs": [
    {
     "name": "stdout",
     "output_type": "stream",
     "text": [
      "time: 622 µs\n"
     ]
    }
   ],
   "source": [
    "target = df_sleep_eff.sleep_eff.values"
   ]
  },
  {
   "cell_type": "code",
   "execution_count": null,
   "metadata": {},
   "outputs": [],
   "source": []
  }
 ],
 "metadata": {
  "kernelspec": {
   "display_name": "Python 3",
   "language": "python",
   "name": "python3"
  },
  "language_info": {
   "codemirror_mode": {
    "name": "ipython",
    "version": 3
   },
   "file_extension": ".py",
   "mimetype": "text/x-python",
   "name": "python",
   "nbconvert_exporter": "python",
   "pygments_lexer": "ipython3",
   "version": "3.7.4"
  },
  "toc": {
   "base_numbering": 1,
   "nav_menu": {},
   "number_sections": true,
   "sideBar": true,
   "skip_h1_title": false,
   "title_cell": "Table of Contents",
   "title_sidebar": "Contents",
   "toc_cell": false,
   "toc_position": {},
   "toc_section_display": true,
   "toc_window_display": false
  }
 },
 "nbformat": 4,
 "nbformat_minor": 2
}
